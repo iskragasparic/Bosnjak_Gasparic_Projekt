{
  "nbformat": 4,
  "nbformat_minor": 0,
  "metadata": {
    "colab": {
      "name": "nn.ipynb",
      "provenance": [],
      "collapsed_sections": []
    },
    "kernelspec": {
      "name": "python3",
      "display_name": "Python 3"
    }
  },
  "cells": [
    {
      "cell_type": "markdown",
      "metadata": {
        "id": "TTgbPg4FOHeQ"
      },
      "source": [
        "## **Importing**"
      ]
    },
    {
      "cell_type": "code",
      "metadata": {
        "id": "bNW_8xS3N8FO"
      },
      "source": [
        "import numpy as np\r\n",
        "import pandas  as pd\r\n",
        "import math\r\n",
        "import keras\r\n",
        "import sklearn.model_selection\r\n",
        "import matplotlib.pyplot as plt\r\n",
        "from numpy import linalg as LA"
      ],
      "execution_count": 183,
      "outputs": []
    },
    {
      "cell_type": "markdown",
      "metadata": {
        "id": "HCW60HsEON7n"
      },
      "source": [
        "##**Reading and preprocessing data**"
      ]
    },
    {
      "cell_type": "code",
      "metadata": {
        "id": "eZTf6gisONMF"
      },
      "source": [
        "dataframe = pd.read_csv('spam.csv', encoding= \"ISO-8859-1\")\r\n",
        "\r\n",
        "dataframe = dataframe.iloc[:,:2]\r\n",
        "\r\n",
        "\r\n",
        "dataframe.columns = [\"Class\",\"Content\"]\r\n",
        "dataframe[\"Class_number\"] = pd.factorize(dataframe[\"Class\"])[0]\r\n",
        "\r\n",
        "#pretvaranje znakova u integere\r\n",
        "def contentToIntegers(dataframeRow):\r\n",
        "  return [ord(character) for character in dataframeRow[\"Content\"]]\r\n",
        "\r\n",
        "dataframe[\"Content_integers\"] = dataframe.apply(contentToIntegers, axis=1)\r\n",
        "\r\n",
        "#pronalazak najveceg integera zbog skaliranja\r\n",
        "maxInteger = -math.inf\r\n",
        "for i in range(len(dataframe[\"Content_integers\"])):\r\n",
        "  for j in range(len(dataframe[\"Content_integers\"][i])):\r\n",
        "    if dataframe[\"Content_integers\"][i][j] > maxInteger:\r\n",
        "      maxInteger = dataframe[\"Content_integers\"][i][j]\r\n",
        "\r\n",
        "#kreiranje training i testing skupa\r\n",
        "X = dataframe[\"Content_integers\"].values\r\n",
        "\r\n",
        "for i in range(len(dataframe)):\r\n",
        "  X[i] = np.asarray(X[i])\r\n",
        "\r\n",
        "y = dataframe[\"Class_number\"].values\r\n",
        "y = y.reshape(len(y), 1)\r\n",
        "\r\n",
        "\r\n",
        "X_train, X_test, y_train, y_test = sklearn.model_selection.train_test_split(X, y, test_size=0.3)\r\n",
        "\r\n",
        "maxLength = 100\r\n",
        "X_train = keras.preprocessing.sequence.pad_sequences(X_train, maxlen=maxLength) #poruke moraju biti istih velicina - rezemo ih na duljinu maxLength\r\n",
        "X_test = keras.preprocessing.sequence.pad_sequences(X_test, maxlen=maxLength)\r\n",
        "\r\n",
        "X_train = X_train / maxInteger #skaliranje na [0,1]\r\n",
        "X_test = X_test / maxInteger\r\n",
        "\r\n",
        "#algoritmi su pisani za obrnute dimenzije\r\n",
        "X_test = X_test.T\r\n",
        "X_train = X_train.T\r\n",
        "y_test = y_test.T\r\n",
        "y_train = y_train.T"
      ],
      "execution_count": 184,
      "outputs": []
    },
    {
      "cell_type": "markdown",
      "metadata": {
        "id": "fAOzFYjtOz82"
      },
      "source": [
        "## **Sigmoid function, error function and intializing parameters**"
      ]
    },
    {
      "cell_type": "code",
      "metadata": {
        "id": "V6AX44_GO0EH"
      },
      "source": [
        "def sigmoid(x):\r\n",
        "  return 1 / (1 + np.exp(-x))\r\n",
        "\r\n",
        "\r\n",
        "def initialize(n):\r\n",
        "  W = np.zeros((n,1))\r\n",
        "  b = 0.0\r\n",
        "\r\n",
        "  return W, b\r\n",
        "\r\n",
        "\r\n",
        "def errorFunction(X, Y, W, b):\r\n",
        "  n = X.shape[1]\r\n",
        "\r\n",
        "  a = sigmoid(np.dot(W.T, X) + b)      #a = g(Wx + b)\r\n",
        "\r\n",
        "  E_vector = (-1 / n) * (Y * np.log(a) + (1-Y) * np.log(1-a))\r\n",
        "  \r\n",
        "  E = 0.0\r\n",
        "  for i in range(len(E_vector)):\r\n",
        "    E = E + E_vector[i]\r\n",
        "\r\n",
        "  gradW = (1 / n) * np.dot(X, (a-Y).T)\r\n",
        "\r\n",
        "  gradB_vector = (1 / n) * (a-Y)\r\n",
        "  gradB = 0.0\r\n",
        "  for i in range(len(gradB_vector)):\r\n",
        "    gradB = gradB + gradB_vector[i][0]  \r\n",
        "\r\n",
        "  return E, gradW, gradB"
      ],
      "execution_count": 185,
      "outputs": []
    },
    {
      "cell_type": "markdown",
      "metadata": {
        "id": "k376SzutVlax"
      },
      "source": [
        "## **Gradient descent**"
      ]
    },
    {
      "cell_type": "code",
      "metadata": {
        "id": "Wsn6gKywVljo"
      },
      "source": [
        "def gradientDescent(X, Y, W, b, numberOfIterations, learningRate):\r\n",
        "  errorsForPlot = []\r\n",
        "\r\n",
        "  for i in range(numberOfIterations):\r\n",
        "    if i % 100 == 0:\r\n",
        "      print('Iteracija: ',i)\r\n",
        "    \r\n",
        "    E, gradW, gradB = errorFunction(X, Y, W, b)\r\n",
        "    \r\n",
        "    W = W - learningRate * gradW\r\n",
        "    b = b - learningRate * gradB\r\n",
        "\r\n",
        "    errorsForPlot.append(E)\r\n",
        "\r\n",
        "  return W, b, gradW, gradB, errorsForPlot"
      ],
      "execution_count": 186,
      "outputs": []
    },
    {
      "cell_type": "markdown",
      "metadata": {
        "id": "an0pgiIJWk3w"
      },
      "source": [
        "## **Prediction**"
      ]
    },
    {
      "cell_type": "code",
      "metadata": {
        "id": "icF3gjOFWk_f"
      },
      "source": [
        "def predictClass(Z, W, b):\r\n",
        "  n = Z.shape[1]\r\n",
        "  ZClass = np.zeros((1,n))\r\n",
        "  W = W.reshape(Z.shape[0], 1)\r\n",
        "\r\n",
        "  a = sigmoid(np.dot(W.T, Z) + b)\r\n",
        "\r\n",
        "  ZClass = np.around(a, decimals=0)\r\n",
        "\r\n",
        "  return ZClass"
      ],
      "execution_count": 187,
      "outputs": []
    },
    {
      "cell_type": "markdown",
      "metadata": {
        "id": "7AQwTCKHXzxv"
      },
      "source": [
        "## **Complete network**"
      ]
    },
    {
      "cell_type": "code",
      "metadata": {
        "id": "ERq9V8zgXz5e"
      },
      "source": [
        "def neuralNetwork(X_train, y_train, X_test, y_test, numberOfIterations, learningRate):\r\n",
        "  W, b = initialize(X_train.shape[0])\r\n",
        "\r\n",
        "  W, b, gradW, gradB, errorsForPlot = gradientDescent(X_train, y_train, W, b, numberOfIterations, learningRate) #gradijentni spust numberOfIterations puta\r\n",
        "\r\n",
        "  y_trainClass = predictClass(X_train, W, b)  \r\n",
        "  y_testClass = predictClass(X_test, W, b)\r\n",
        "\r\n",
        "  #Provjera tocnosti na testing i training skupu\r\n",
        "  print(\"train accuracy: {} %\".format(100 - np.mean(np.abs(y_trainClass - y_train)) * 100))\r\n",
        "  print(\"test accuracy: {} %\".format(100 - np.mean(np.abs(y_testClass - y_test)) * 100))\r\n",
        "\r\n",
        "  return y_trainClass, y_testClass, W, b, errorsForPlot"
      ],
      "execution_count": 188,
      "outputs": []
    },
    {
      "cell_type": "markdown",
      "metadata": {
        "id": "3oJraCY5ZIk9"
      },
      "source": [
        "## **Testing the network**"
      ]
    },
    {
      "cell_type": "code",
      "metadata": {
        "id": "UEK-xGGxZIs9",
        "colab": {
          "base_uri": "https://localhost:8080/",
          "height": 1000
        },
        "outputId": "b5a660b4-6ddf-4792-d065-5cccb5ff78d2"
      },
      "source": [
        "numberOfIterations = 2000\r\n",
        "learningRate = 0.1\r\n",
        "\r\n",
        "print(\"Prvi pristup - na temelju brojevne reprezentacije poruka\")\r\n",
        "#ucenje na temelju samog sadrzaja poruke pretvorenog u integere\r\n",
        "Y_trainClass, Y_testClass, W, b, errorsForPlot = neuralNetwork(X_train, y_train, X_test, y_test, numberOfIterations, learningRate)\r\n",
        "\r\n",
        "n = len(errorsForPlot)\r\n",
        "error = []\r\n",
        "for i in range(n):\r\n",
        "  error.append(LA.norm(errorsForPlot[i]))\r\n",
        "\r\n",
        "x = np.arange(0, n, 1)\r\n",
        "plt.plot(x,error, 'bx')\r\n",
        "\r\n",
        "#ucitava se dataset procesiran u programu za kmeans algoritam\r\n",
        "#nalaze se najcesce rijeci u porukama te se na temelju njih klasterira spam i ham\r\n",
        "X_trainTokenized = np.loadtxt(open(\"X_trainTokenized.csv\", \"rb\"), delimiter=\",\")\r\n",
        "X_testTokenized = np.loadtxt(open(\"X_testTokenized.csv\", \"rb\"), delimiter=\",\")\r\n",
        "\r\n",
        "y_Tokenized = np.loadtxt(open(\"ShuffledLabels.csv\", \"rb\"), delimiter=\",\")\r\n",
        "\r\n",
        "#tokeniziran y_train:\r\n",
        "y_trainTokenized = y_Tokenized[:3899]\r\n",
        "y_testTokenized = y_Tokenized[3899:]\r\n",
        "\r\n",
        "print(\"Drugi pristup - kljucne rijeci\")\r\n",
        "\r\n",
        "Y_trainClass2, Y_testClass2, W2, b2, errorsForPlot2 = neuralNetwork(X_trainTokenized, y_trainTokenized, X_testTokenized, y_testTokenized, numberOfIterations, learningRate)\r\n",
        "\r\n",
        "n = len(errorsForPlot2)\r\n",
        "error2 = []\r\n",
        "for i in range(n):\r\n",
        "  error2.append(LA.norm(errorsForPlot2[i]))\r\n",
        "\r\n",
        "x2 = np.arange(0, n, 1)\r\n",
        "plt.plot(x2,error2, 'ro')"
      ],
      "execution_count": 189,
      "outputs": [
        {
          "output_type": "stream",
          "text": [
            "Prvi pristup - na temelju brojevne reprezentacije poruka\n",
            "Iteracija:  0\n",
            "Iteracija:  100\n",
            "Iteracija:  200\n",
            "Iteracija:  300\n",
            "Iteracija:  400\n",
            "Iteracija:  500\n",
            "Iteracija:  600\n",
            "Iteracija:  700\n",
            "Iteracija:  800\n",
            "Iteracija:  900\n",
            "Iteracija:  1000\n",
            "Iteracija:  1100\n",
            "Iteracija:  1200\n",
            "Iteracija:  1300\n",
            "Iteracija:  1400\n",
            "Iteracija:  1500\n",
            "Iteracija:  1600\n",
            "Iteracija:  1700\n",
            "Iteracija:  1800\n",
            "Iteracija:  1900\n",
            "train accuracy: 90.28205128205128 %\n",
            "test accuracy: 90.2511961722488 %\n",
            "Drugi pristup - kljucne rijeci\n",
            "Iteracija:  0\n",
            "Iteracija:  100\n",
            "Iteracija:  200\n",
            "Iteracija:  300\n",
            "Iteracija:  400\n",
            "Iteracija:  500\n",
            "Iteracija:  600\n",
            "Iteracija:  700\n",
            "Iteracija:  800\n",
            "Iteracija:  900\n",
            "Iteracija:  1000\n",
            "Iteracija:  1100\n",
            "Iteracija:  1200\n",
            "Iteracija:  1300\n",
            "Iteracija:  1400\n",
            "Iteracija:  1500\n",
            "Iteracija:  1600\n",
            "Iteracija:  1700\n",
            "Iteracija:  1800\n",
            "Iteracija:  1900\n",
            "train accuracy: 94.20364195947678 %\n",
            "test accuracy: 92.88702928870293 %\n"
          ],
          "name": "stdout"
        },
        {
          "output_type": "execute_result",
          "data": {
            "text/plain": [
              "[<matplotlib.lines.Line2D at 0x7feb33ec5ac8>]"
            ]
          },
          "metadata": {
            "tags": []
          },
          "execution_count": 189
        },
        {
          "output_type": "display_data",
          "data": {
            "image/png": "[encoded data removed]",
            "text/plain": [
              "<Figure size 432x288 with 1 Axes>"
            ]
          },
          "metadata": {
            "tags": [],
            "needs_background": "light"
          }
        }
      ]
    }
  ]
}